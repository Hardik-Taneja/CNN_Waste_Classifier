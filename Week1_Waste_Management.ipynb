{
 "cells": [
  {
   "cell_type": "markdown",
   "id": "bd950347-6a74-4a0e-bd2e-78489333803d",
   "metadata": {},
   "source": [
    "# 1) Waste Management using CNN Model"
   ]
  },
  {
   "cell_type": "code",
   "execution_count": null,
   "id": "30451e0d-9e67-4eb2-b4e5-a351c3eac183",
   "metadata": {},
   "outputs": [],
   "source": [
    "pip install opencv-python"
   ]
  },
  {
   "cell_type": "markdown",
   "id": "40ff29a6-2c6d-4b43-bd26-d6b23a7f2de0",
   "metadata": {},
   "source": [
    "# 2 Importing necessary Libraries"
   ]
  },
  {
   "cell_type": "code",
   "execution_count": null,
   "id": "2cc5518b-933e-4be4-a1e1-c598010dea98",
   "metadata": {},
   "outputs": [],
   "source": [
    "import numpy as np\n",
    "import pandas as pd\n",
    "import matplotlib.pyplot as plt\n",
    "import cv2\n",
    "from tqdm import tqdm\n",
    "import warnings\n",
    "warnings.filterwarnings('ignore')"
   ]
  },
  {
   "cell_type": "code",
   "execution_count": null,
   "id": "74aed948-841a-4c8a-842a-dec214fcde06",
   "metadata": {},
   "outputs": [],
   "source": [
    "# train_path=\"dataset/TRAIN\"\n",
    "# test_path=\"dataset/TEST\"\n",
    "import os\n",
    "train_path = os.path.join(\"dataset\", \"TRAIN\")\n",
    "test_path = os.path.join(\"dataset\", \"TEST\")\n"
   ]
  },
  {
   "cell_type": "code",
   "execution_count": null,
   "id": "659ebd92-b7a3-423e-98d2-d9164b032b4c",
   "metadata": {
    "scrolled": true
   },
   "outputs": [],
   "source": [
    "pip install tensorflow"
   ]
  },
  {
   "cell_type": "code",
   "execution_count": null,
   "id": "be5fe676-9478-47aa-a764-5b011c11d7b2",
   "metadata": {},
   "outputs": [],
   "source": [
    "from tensorflow.keras.models import Sequential\n",
    "from tensorflow.keras.layers import Conv2D, MaxPooling2D, Activation, Dropout, Flatten, Dense, BatchNormalization\n",
    "from tensorflow.keras.preprocessing.image import ImageDataGenerator, img_to_array, load_img\n",
    "from tensorflow.keras.utils import plot_model\n",
    "from glob import glob"
   ]
  },
  {
   "cell_type": "code",
   "execution_count": null,
   "id": "a69cd2a7-2a97-47ee-b9a5-376a4968269e",
   "metadata": {},
   "outputs": [],
   "source": [
    "#Visualization\n",
    "from cv2 import cvtColor\n",
    "x_data =[]\n",
    "y_data=[]\n",
    "for category in glob(train_path + '/*'):\n",
    "    for file in tqdm(glob(category+'/*')):\n",
    "        img_array= cv2.imread(file)\n",
    "        img_array= cv2.cvtColor(img_array, cv2.COLOR_BGR2RGB)\n",
    "        x_data.append(img_array)\n",
    "        y_data.append(category.split('/')[-1])\n",
    "data= pd.DataFrame({'image':x_data, 'label':y_data})"
   ]
  },
  {
   "cell_type": "code",
   "execution_count": null,
   "id": "515b8ae0-c274-4759-b9cb-57bf3536eade",
   "metadata": {},
   "outputs": [],
   "source": [
    "data.shape"
   ]
  },
  {
   "cell_type": "code",
   "execution_count": null,
   "id": "99e0df68-1a12-4123-9373-11b980cd98b1",
   "metadata": {},
   "outputs": [],
   "source": [
    "plt.figure(figsize=(6, 6))\n",
    "colors = [\"#a0d157\", \"#c48b8b\"]\n",
    "data.label.value_counts().plot.pie(\n",
    "    labels=[\"Organic\", \"Recyclable\"],\n",
    "    autopct=\"%0.2f%%\",\n",
    "    colors=colors,\n",
    "    startangle=90,\n",
    "    explode=[0.05, 0.05]\n",
    ")\n",
    "plt.title(\"Distribution of Waste Categories\")\n",
    "plt.legend(loc=\"best\")\n",
    "plt.show()\n"
   ]
  },
  {
   "cell_type": "code",
   "execution_count": null,
   "id": "54c2b178-5432-418c-b436-54e3d3d26567",
   "metadata": {},
   "outputs": [],
   "source": []
  }
 ],
 "metadata": {
  "kernelspec": {
   "display_name": "Python 3 (ipykernel)",
   "language": "python",
   "name": "python3"
  },
  "language_info": {
   "codemirror_mode": {
    "name": "ipython",
    "version": 3
   },
   "file_extension": ".py",
   "mimetype": "text/x-python",
   "name": "python",
   "nbconvert_exporter": "python",
   "pygments_lexer": "ipython3",
   "version": "3.11.4"
  }
 },
 "nbformat": 4,
 "nbformat_minor": 5
}
